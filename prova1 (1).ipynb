{
 "cells": [
  {
   "attachments": {},
   "cell_type": "markdown",
   "metadata": {},
   "source": [
    "# Avaliação Intermediária\n",
    "\n",
    "NOME: **Alan Matheus Alves Barbosa**\n",
    "E-MAIL: **alanm2@al.insper.edu.br**"
   ]
  },
  {
   "attachments": {},
   "cell_type": "markdown",
   "metadata": {},
   "source": [
    "Esta é a A.I. de Álgebra Linear e Teoria da Informação de 1s2023.\n",
    "\n",
    "\n",
    "\n",
    "INSTRUÇÕES:\n",
    "\n",
    "1. Faça todas as questões\n",
    "1. Salve o notebook\n",
    "1. Envie o notebook salvo no Blackboard\n",
    "\n",
    "IMPORTANTE:\n",
    "\n",
    "* Você pode consultar qualquer material ou IA, mas não qualquer colega ou pessoa humana, presente ou não na prova.\n",
    "* O envio da prova será fechado às 17h45. Aqueles que não enviarem o material até este horário ficarão com zero.\n",
    "* A prova vale um total de 10 pontos. As questões 1, 2, 3 e 4 têm, respectivamente, pesos 1, 2, 3 e 4.\n",
    "* Os conceitos F, E, D, C, B, A serão mapeados para 0, 2, 4, 6, 8 e 10.\n",
    "* Para todas as questões, usaremos a rubrica que segue anexa a esta prova. Há uma rubrica para a justificativa e uma rubrica para o código. A nota da questão é a menor entre as notas da justificativa e do código.\n"
   ]
  },
  {
   "attachments": {},
   "cell_type": "markdown",
   "metadata": {},
   "source": [
    "## Exercício 1\n",
    "\n",
    "* Peso: 1 ponto\n",
    "\n",
    "Dadas as matrizes:\n",
    "\n",
    "$$\n",
    "A = \\begin{bmatrix} 1 & 3 &\\\\ 2 & 1 \\end{bmatrix} \\\\\n",
    "\n",
    "B = \\begin{bmatrix} 2 & 3\\\\ 5 & 8 \\end{bmatrix} \\\\\n",
    "\n",
    "C = AB \\\\\n",
    "\n",
    "D = BA \n",
    "$$\n",
    "\n",
    "calcule:\n",
    "\n",
    "$X = (ABC^{-1}BAD^{-1})^T \\odot A$\n",
    "\n"
   ]
  },
  {
   "attachments": {},
   "cell_type": "markdown",
   "metadata": {},
   "source": [
    "---------------------------------------------------\n",
    "Implementei diretamente a equação.\n",
    "\n",
    "---------------------------------------------------"
   ]
  },
  {
   "cell_type": "code",
   "execution_count": 9,
   "metadata": {},
   "outputs": [
    {
     "name": "stdout",
     "output_type": "stream",
     "text": [
      "[[ 1.00000000e+00 -1.06581410e-15]\n",
      " [ 2.04281037e-15  1.00000000e+00]]\n"
     ]
    }
   ],
   "source": [
    "import numpy as np\n",
    "\n",
    "A = np.array([[1,3], [2,1]])\n",
    "B = np.array([[2,3], [5,8]])\n",
    "C = A@B\n",
    "D = B@A\n",
    "\n",
    "x = (((A@B@np.linalg.inv(C))@B@A@(np.linalg.inv(D))).T )*A    #Solução da equação, no final uma multiplicação ponto a ponto.\n",
    "print(x)\n"
   ]
  },
  {
   "cell_type": "markdown",
   "metadata": {},
   "source": []
  },
  {
   "attachments": {},
   "cell_type": "markdown",
   "metadata": {},
   "source": [
    "# Exercício 2\n",
    "\n",
    "* Peso: 2 pontos\n",
    "\n",
    "Tenho uma matriz $X$ que contém todas as posições $(i,j)$ de pixels de uma figura de 600x600 pixels, sendo cada pixel armazenado em uma coluna e cada dimensão armazenada em uma linha. Qual é a matriz que permite encolher essa figura de forma que cada uma de suas dimensões seja reduzida pela metade, mas seu centro seja preservado? Se precisar, use coordenadas homogêneas!\n"
   ]
  },
  {
   "attachments": {},
   "cell_type": "markdown",
   "metadata": {},
   "source": []
  },
  {
   "attachments": {},
   "cell_type": "markdown",
   "metadata": {},
   "source": [
    "-------------------------------------------------------------\n",
    "Primeiro, o centro da imagem é definido como o ponto $(300, 300)$ usando a variável C.\n",
    "\n",
    "Em seguida, são criadas três matrizes de transformação: T1, S e T2.\n",
    "\n",
    "A matriz T1 é uma matriz de translação que move a origem do sistema de coordenadas para o centro da imagem, representado por C. Isso é feito subtraindo as coordenadas de C das coordenadas originais.\n",
    "\n",
    "A matriz S é uma matriz de escala que reduz as dimensões da imagem pela metade. Isso é feito definindo os valores da diagonal principal como $0,5$.\n",
    "\n",
    "A matriz T2 é uma matriz de translação que move a origem do sistema de coordenadas de volta para a posição original, adicionando as coordenadas de C às coordenadas resultantes.\n",
    "\n",
    "Por fim, a matriz de transformação resultante é calculada multiplicando as três matrizes: T2, S e T1.\n",
    "\n",
    "A matriz de transformação resultante é armazenada na variável Transformação.\n",
    "\n",
    "-------------------------------------------------------------"
   ]
  },
  {
   "cell_type": "code",
   "execution_count": 51,
   "metadata": {},
   "outputs": [
    {
     "name": "stdout",
     "output_type": "stream",
     "text": [
      "O resultado final é:\n",
      " [[  0.5   0.  150. ]\n",
      " [  0.    0.5 150. ]\n",
      " [  0.    0.    1. ]]\n"
     ]
    }
   ],
   "source": [
    "import numpy as np\n",
    "\n",
    "\n",
    "#centro da imagem\n",
    "C = (300,300)\n",
    "\n",
    "#matrizes de transformação\n",
    "T1 = np.array([[1, 0, -C[0]], [0, 1, -C[1]], [0, 0, 1]])  #T1 -> transformação 1\n",
    "S = np.array([[0.5, 0, 0], [0, 0.5, 0], [0, 0, 1]])       #S -> escala\n",
    "T2 = np.array([[1, 0, C[0]], [0, 1, C[1]], [0, 0, 1]])    #T2 -> transformação 2\n",
    "\n",
    "#matriz de transformação resultante\n",
    "Transformação = T2@S@T1\n",
    "\n",
    "print(f'O resultado final é:\\n {Transformação}')"
   ]
  },
  {
   "attachments": {},
   "cell_type": "markdown",
   "metadata": {},
   "source": [
    "# Exercício 3\n",
    "\n",
    "* Peso: 3 pontos\n",
    "\n",
    "Algumas carteiras de investimento deram os seguintes retornos:\n",
    "\n",
    "* 100 ações da empresa E1 e 200 ações da E2 deram retorno de R$100,00,\n",
    "* 1000 ações da empresa E1 e 2000 ações da E2 deram retorno de R$1000,00,\n",
    "* 200 ações da empresa E2 e 300 da E3 deram retorno de R$500,00 \n",
    "* 400 ações da empresa E2 e 600 da E3 deram retorno de R$1000,00 \n",
    "* 1000 ações da empresa E1 e 100 da E3 deram retorno de R$1500,00\n",
    "* 2000 ações da empresa E1 e 200 da E3 deram retorno de R$3000,00 \n",
    "\n",
    "*Usando estritamente formulações matriciais*, responda:\n",
    "1. Qual é o retorno por ação de cada empresa?\n",
    "1. Qual é o retorno de uma carteira com 100 ações da empresa E1, 200 da empresa E2 e 300 da E3?"
   ]
  },
  {
   "attachments": {},
   "cell_type": "markdown",
   "metadata": {},
   "source": [
    "----------------------------------------------\n",
    "Na primeira parte, é criada a matriz matriz_valores_acoes com os valores dos retornos de cada empresa em cada carteira de investimento. Em seguida, é criado o vetor resultados com os valores totais de retorno de cada carteira de investimento. Utilizando a função np.linalg.solve, é possível resolver o sistema de equações formado pela matriz e pelo vetor e encontrar as soluções para o retorno por ação de cada empresa. O resultado é impresso na tela com a mensagem \"Solução da 1\".\n",
    "Obs: Ignorei na conta as equações semelhantes, como: \n",
    "* 100 ações da empresa E1 e 200 ações da E2 deram retorno de R$100,00,\n",
    "* 1000 ações da empresa E1 e 2000 ações da E2 deram retorno de R$1000,00,\n",
    "Pois a segunda é igual a primeira multiplicada por 10.\n",
    "\n",
    "Na segunda parte, é calculado o retorno de uma carteira específica com 100 ações da empresa E1, 200 ações da empresa E2 e 300 ações da empresa E3. Para isso, basta multiplicar a quantidade de ações de cada empresa pelo seu respectivo valor de retorno encontrado na primeira parte e somar os resultados. O resultado é impresso na tela com a mensagem \"Solução da 2\".\n",
    "\n",
    "----------------------------------------------"
   ]
  },
  {
   "cell_type": "code",
   "execution_count": 60,
   "metadata": {},
   "outputs": [
    {
     "name": "stdout",
     "output_type": "stream",
     "text": [
      "Solução da 1\n",
      "[[ 1.32258065]\n",
      " [-0.16129032]\n",
      " [ 1.77419355]]\n",
      "Solução da 2\n",
      "632.258064516129\n",
      "Portanto, E1 = 1.3225806451612903, E2 = -0.16129032258064513 e E3 = 1.7741935483870968\n"
     ]
    }
   ],
   "source": [
    "import numpy as np\n",
    "# 100*E1 + 200*E2 = 100\n",
    "# 200*E2 + 300*E3 = 500\n",
    "# 1000*E1 + 100*E3 = 1500\n",
    "\n",
    "#SOLUÇÃO DA 1\n",
    "matriz_valores_acoes = np.array([[100,200,0],[0,200,300],[1000,0,100]])\n",
    "resultados = np.array([[100,500,1500]])\n",
    "solucao = np.linalg.solve(matriz_valores_acoes, resultados.T)\n",
    "print('Solução da 1')\n",
    "print(solucao)\n",
    "\n",
    "#SOLUÇÃO DA 2\n",
    "print('Solução da 2')\n",
    "print(solucao[0][0]*100 + solucao[1][0]*200 + solucao[2][0]*300)\n",
    "\n",
    "\n",
    "print(f\"Portanto, E1 = {solucao[0][0]}, E2 = {solucao[1][0]} e E3 = {solucao[2][0]}\")\n",
    "\n"
   ]
  },
  {
   "cell_type": "markdown",
   "metadata": {},
   "source": []
  },
  {
   "attachments": {},
   "cell_type": "markdown",
   "metadata": {},
   "source": []
  },
  {
   "attachments": {},
   "cell_type": "markdown",
   "metadata": {},
   "source": [
    "# Exercício 4\n",
    "\n",
    "* Peso: 4 pontos\n",
    "\n",
    "Uma maneira de fazer transformações em imagens é usar pontos de referência. Por exemplo, podemos definir pontos de referência em um rosto como o centro de cada um dos olhos, a ponta do nariz e o ponto inferior do queixo. Daí então, encontramos onde esses pontos estão na imagem de origem, e escolhemos (como quisermos) onde os pontos estão na imagem de destino. Encontramos a transformação linear que realiza esse mapeamento, e então aplicamos essa mesma transformação para todos os pontos da imagem, isto é:\n",
    "\n",
    "$$\n",
    "Xd = T X,\n",
    "$$\n",
    "\n",
    "onde $Xd$ é uma matriz com pontos na imagem de destino, $X$ é uma matriz com pontos na imagem de origem, e $T$ é uma transformação linear.\n",
    "\n",
    "Num rosto, em uma imagem que está mapeada no plano cartesiano (isto é, no plano usual $x,y$ e não numa matriz de pixels), encontramos:\n",
    "\n",
    "* O olho esquerdo em $(-2, 3)$,\n",
    "* o olho direito em $(2, 3)$\n",
    "* A ponta do nariz em $(0,0)$\n",
    "* O ponto inferior do queixo em $(0, -3)$\n",
    "\n",
    "O rosto foi mapeado usando uma transformação linear de forma que os pontos de referência foram deslocados para:\n",
    "\n",
    "* O olho esquerdo em $(-6, 2)$,\n",
    "* o olho direito em $(6, 1)$\n",
    "* A ponta do nariz em $(3, 0)$\n",
    "\n",
    "Usando formulações matriciais, responda: qual é a distância entre o ponto inferior do queixo e a ponta do nariz no novo mapeamento?\n"
   ]
  },
  {
   "attachments": {},
   "cell_type": "markdown",
   "metadata": {},
   "source": [
    "-------------------------------------------------------------------------------------------------------------------------\n",
    "Inicialmente, eu calculei a matriz X formada pelos pontos na base X, ignorando inicialmente o ponto inferior do queixo, incluí uma linha de 1's para termos a matriz quadrada que seria transformada em inversa posteriormente (necessita ser quadrada).\n",
    "Tendo então a matriz X: [[-2, 2, 0], [3, 3, 0], [1, 1, 1]]\n",
    "\n",
    "Logo após, calculei a matriz Xd, da mesma forma, ignorando o ponto inferior do queixo.\n",
    "Tendo então a matriz Xd: [[-6, 6, 3], [2, 1, 0], [1, 1, 1]]\n",
    "\n",
    "Com isso, posso obter a matriz de transformação: $$ T = Xd*X^{-1} $$\n",
    "\n",
    "Possuindo a matriz transformação, ignorei agora o ponto referente ao nariz e achei novamente o Xd\n",
    "\n",
    "[[-6.   6.   6. ]\n",
    " [ 2.   1.  -1.5]\n",
    " [ 1.   1.   1. ]]\n",
    "\n",
    "Com o novo Xd e printando a resposta, eu poderia já ver a nova localização do ponto inferior do queixo, no caso seria (6,-1.5) \n",
    "\n",
    "Agora, usando a distância entre pontos, calculamos a distância, que no caso seria de: 3.354 aproximadamente.\n",
    "\n",
    "-------------------------------------------------------------------------------------------------------------------------"
   ]
  },
  {
   "cell_type": "code",
   "execution_count": 49,
   "metadata": {},
   "outputs": [
    {
     "name": "stdout",
     "output_type": "stream",
     "text": [
      "[[-6.   6.   6. ]\n",
      " [ 2.   1.  -1.5]\n",
      " [ 1.   1.   1. ]]\n",
      "3.3541019662496847\n",
      "A nova distância entre eles é 3.354 unidades\n"
     ]
    }
   ],
   "source": [
    "import numpy as np\n",
    "\n",
    "# Matriz X com os pontos de referência na imagem original\n",
    "X = np.array([[-2, 2, 0], [3, 3, 0], [1, 1, 1]])\n",
    "\n",
    "# Matriz Xd com os pontos de referência na imagem de destino\n",
    "Xd = np.array([[-6, 6, 3], [2, 1, 0], [1, 1, 1]])\n",
    "\n",
    "# Calculando a matriz de transformação T\n",
    "T = Xd@(np.linalg.inv(X))\n",
    "\n",
    "# ponto anterior em X do queixo: (0,-3)\n",
    "\n",
    "xd_new = T@np.array([[-2, 2, 0], [3, 3, -3], [1, 1, 1]])\n",
    "\n",
    "#Analisando, a nova coordenada do queixo é (6,-1.5)\n",
    "#Agora, calculando a distância entre o ponto inferior do queixo e a ponta do nariz na nova coordenada. pontos: (3,0), (6,-1.5)\n",
    "dist = np.sqrt((6-3)**2 + (-1.5-0)**2)\n",
    "print(dist)\n",
    "print(f'A nova distância entre eles é {dist:.3f} unidades')"
   ]
  }
 ],
 "metadata": {
  "kernelspec": {
   "display_name": "base",
   "language": "python",
   "name": "python3"
  },
  "language_info": {
   "codemirror_mode": {
    "name": "ipython",
    "version": 3
   },
   "file_extension": ".py",
   "mimetype": "text/x-python",
   "name": "python",
   "nbconvert_exporter": "python",
   "pygments_lexer": "ipython3",
   "version": "3.10.9"
  },
  "orig_nbformat": 4
 },
 "nbformat": 4,
 "nbformat_minor": 2
}
